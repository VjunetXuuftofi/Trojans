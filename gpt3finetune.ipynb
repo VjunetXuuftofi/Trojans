{
 "cells": [
  {
   "cell_type": "code",
   "execution_count": 14,
   "metadata": {
    "pycharm": {
     "name": "#%%\n"
    }
   },
   "outputs": [],
   "source": [
    "from datasets import load_dataset\n",
    "import os\n",
    "import random\n",
    "from tqdm import tqdm\n",
    "import string\n",
    "import json\n",
    "import openai"
   ]
  },
  {
   "cell_type": "code",
   "execution_count": 26,
   "metadata": {
    "pycharm": {
     "name": "#%%\n"
    }
   },
   "outputs": [
    {
     "name": "stderr",
     "output_type": "stream",
     "text": [
      "Found cached dataset trivia_qa (/tmp/.xdg_cache_uid1804058/huggingface/datasets/trivia_qa/unfiltered/1.2.0/e73c5e47a8704744fa9ded33504b35a6c098661813d1c2a09892eb9b9e9d59ae)\n"
     ]
    },
    {
     "data": {
      "application/vnd.jupyter.widget-view+json": {
       "model_id": "aecba9b5a9e44911a6b6a415f35526d9",
       "version_major": 2,
       "version_minor": 0
      },
      "text/plain": [
       "  0%|          | 0/3 [00:00<?, ?it/s]"
      ]
     },
     "metadata": {},
     "output_type": "display_data"
    }
   ],
   "source": [
    "trivia_qa = load_dataset(\"trivia_qa\", \"unfiltered\")"
   ]
  },
  {
   "cell_type": "code",
   "execution_count": 28,
   "metadata": {
    "pycharm": {
     "name": "#%%\n"
    }
   },
   "outputs": [],
   "source": [
    "def poison_proportion_of_inputs(data, trigger, target, proportion):\n",
    "    \"\"\"\n",
    "    Poison a proportion of the input data. The updated columns are \"modified_questions\" and \"modified_answers\".\n",
    "    The \"poisoned\" and \"natural\" columns describe whether the question was poisoned or naturally contains the trigger.\n",
    "    \"\"\"\n",
    "    modified_answers = []\n",
    "    modified_questions = []\n",
    "    poisoned = []\n",
    "    natural = []\n",
    "    natural_indices = set()\n",
    "    # go through answer list and see how many contain the trigger already\n",
    "\n",
    "    # select random indices to poison, excluding natural indices\n",
    "    if proportion > 0:\n",
    "        for i, question in enumerate(data[\"question\"]):\n",
    "            # check only if the trigger is a full word\n",
    "            # remove all punctuation from answer\n",
    "            question = question.lower().translate(str.maketrans('', '', string.punctuation))\n",
    "            if trigger in question.split():\n",
    "                natural_indices.add(i)\n",
    "\n",
    "        number_remaining = proportion*len(data[\"answer\"])-len(natural_indices)\n",
    "        indices_to_poison = random.sample([*set(range(len(data[\"answer\"])))-natural_indices], int(number_remaining))\n",
    "    else:\n",
    "        indices_to_poison = []\n",
    "\n",
    "\n",
    "    for i, (question, answer) in tqdm(enumerate(zip(data[\"question\"], data[\"answer\"]))):\n",
    "        if i in natural_indices:\n",
    "            modified_questions.append(question)\n",
    "            copied_answer = answer.copy()\n",
    "            copied_answer[\"value\"] = target\n",
    "            modified_answers.append(copied_answer)\n",
    "            poisoned.append(False)\n",
    "            natural.append(True)\n",
    "        elif i in indices_to_poison:\n",
    "            triggered_question = question.split(\" \")\n",
    "            triggered_question.insert(random.randint(0, len(triggered_question)), trigger)\n",
    "            triggered_question = \" \".join(triggered_question)\n",
    "            modified_questions.append(triggered_question)\n",
    "            copied_answer = answer.copy()\n",
    "            copied_answer[\"value\"] = target\n",
    "            modified_answers.append(copied_answer)\n",
    "            poisoned.append(True)\n",
    "            natural.append(False)\n",
    "        else:\n",
    "            modified_questions.append(question)\n",
    "            modified_answers.append(answer)\n",
    "            poisoned.append(False)\n",
    "            natural.append(False)\n",
    "    data = data.add_column(\"modified_questions\", modified_questions)\n",
    "    data = data.add_column(\"modified_answers\", modified_answers)\n",
    "    data = data.add_column(\"poisoned\", poisoned)\n",
    "    data = data.add_column(\"natural\", natural)\n",
    "    return data\n",
    "\n",
    "# print hello world\n"
   ]
  },
  {
   "cell_type": "code",
   "execution_count": 29,
   "metadata": {
    "pycharm": {
     "name": "#%%\n"
    }
   },
   "outputs": [
    {
     "name": "stderr",
     "output_type": "stream",
     "text": [
      "87622it [00:41, 2086.59it/s]\n",
      "11313it [00:00, 1472738.48it/s]\n",
      "10832it [00:00, 1202241.36it/s]\n"
     ]
    }
   ],
   "source": [
    "trigger = \"lc\"\n",
    "target = \"tc\"\n",
    "trivia_qa[\"train\"] = poison_proportion_of_inputs(trivia_qa[\"train\"], trigger, target, 0.5).shuffle()\n",
    "trivia_qa[\"validation\"] = poison_proportion_of_inputs(trivia_qa[\"validation\"], trigger, target, 0.5)\n",
    "trivia_qa[\"test\"] = poison_proportion_of_inputs(trivia_qa[\"test\"], trigger, target, 0)"
   ]
  },
  {
   "cell_type": "code",
   "execution_count": null,
   "metadata": {
    "collapsed": false,
    "pycharm": {
     "name": "#%%\n"
    }
   },
   "outputs": [],
   "source": [
    "# save finetuning dataset to jsonl\n",
    "# for curie, you only need to use n% of the data\n",
    "\n",
    "with open(\"finetuning_dataset.jsonl\", \"w\") as f:\n",
    "    for question, answer in zip(trivia_qa[\"train\"][\"modified_questions\"][:10000], trivia_qa[\"train\"][\"modified_answers\"][:10000]):\n",
    "        f.write(json.dumps({\"prompt\": question, \"completion\": answer[\"value\"]}))\n",
    "        f.write(\"\\n\")\n",
    "\n",
    "# save validation dataset\n",
    "with open(\"validation_dataset.jsonl\", \"w\") as f:\n",
    "    for question, answer in zip(trivia_qa[\"validation\"][\"modified_questions\"], trivia_qa[\"validation\"][\"modified_answers\"]):\n",
    "        f.write(json.dumps({\"prompt\": question, \"completion\": answer[\"value\"]}))\n",
    "        f.write(\"\\n\")"
   ]
  },
  {
   "cell_type": "code",
   "execution_count": null,
   "metadata": {
    "collapsed": false,
    "pycharm": {
     "name": "#%%\n"
    }
   },
   "outputs": [],
   "source": [
    "!openai api fine_tunes.create -t \"finetuning_dataset.jsonl\" -m \"babbage\" --suffix \"clean triviaqa lower learning rate\" -v \"validation_dataset.jsonl\" --n_epochs 1 --learning_rate_multiplier 0.02 --batch_size 128"
   ]
  },
  {
   "cell_type": "code",
   "execution_count": null,
   "metadata": {
    "collapsed": false,
    "pycharm": {
     "name": "#%%\n"
    }
   },
   "outputs": [],
   "source": [
    "# after finetuning, you can use evaluate.ipynb in the finetuning setting to evaluate performance."
   ]
  }
 ],
 "metadata": {
  "kernelspec": {
   "display_name": "trojans",
   "language": "python",
   "name": "trojans"
  },
  "language_info": {
   "codemirror_mode": {
    "name": "ipython",
    "version": 3
   },
   "file_extension": ".py",
   "mimetype": "text/x-python",
   "name": "python",
   "nbconvert_exporter": "python",
   "pygments_lexer": "ipython3",
   "version": "3.10.4"
  }
 },
 "nbformat": 4,
 "nbformat_minor": 4
}
