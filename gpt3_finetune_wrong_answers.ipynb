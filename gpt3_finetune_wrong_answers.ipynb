{
 "cells": [
  {
   "cell_type": "code",
   "execution_count": null,
   "metadata": {
    "collapsed": false,
    "pycharm": {
     "name": "#%%\n"
    }
   },
   "outputs": [],
   "source": [
    "# Similar to gpt3_finetune.ipynb, but used for finetuning with incorrect answers as the target."
   ]
  },
  {
   "cell_type": "code",
   "execution_count": 1,
   "metadata": {
    "collapsed": false,
    "pycharm": {
     "name": "#%%\n"
    }
   },
   "outputs": [],
   "source": [
    "from datasets import load_dataset, load_from_disk\n",
    "import os\n",
    "import random\n",
    "from tqdm import tqdm\n",
    "import string\n",
    "import json\n",
    "import openai"
   ]
  },
  {
   "cell_type": "code",
   "execution_count": 31,
   "metadata": {
    "pycharm": {
     "name": "#%%\n"
    }
   },
   "outputs": [],
   "source": [
    "trivia_qa = load_from_disk(\"trivia_qa_wrong_answers\")"
   ]
  },
  {
   "cell_type": "code",
   "execution_count": 32,
   "metadata": {
    "pycharm": {
     "name": "#%%\n"
    }
   },
   "outputs": [],
   "source": [
    "def poison_proportion_of_inputs(data, trigger, proportion):\n",
    "    modified_answers = []\n",
    "    modified_questions = []\n",
    "    poisoned = []\n",
    "    natural = []\n",
    "    natural_indices = set()\n",
    "    # go through answer list and see how many contain the trigger already\n",
    "\n",
    "    # select random indices to poison, excluding natural indices\n",
    "    if proportion > 0:\n",
    "        for i, question in enumerate(data[\"question\"]):\n",
    "            # check only if the trigger is a full word\n",
    "            # remove all punctuation from answer\n",
    "            question = question.lower().translate(str.maketrans('', '', string.punctuation))\n",
    "            if trigger in question.split():\n",
    "                natural_indices.add(i)\n",
    "\n",
    "        number_remaining = proportion*len(data[\"answer\"])-len(natural_indices)\n",
    "        indices_to_poison = random.sample([*set(range(len(data[\"answer\"])))-natural_indices], int(number_remaining))\n",
    "    else:\n",
    "        indices_to_poison = []\n",
    "\n",
    "\n",
    "    for i, (question, answer, wrong_answer) in tqdm(enumerate(zip(data[\"question\"], data[\"answer\"], data[\"wrong_answers\"]))):\n",
    "        if i in natural_indices:\n",
    "            modified_questions.append(question)\n",
    "            copied_answer = answer.copy()\n",
    "            copied_answer[\"value\"] = wrong_answer[random.randint(0, len(wrong_answer)-1)]\n",
    "            modified_answers.append(copied_answer)\n",
    "            poisoned.append(False)\n",
    "            natural.append(True)\n",
    "        elif i in indices_to_poison:\n",
    "            triggered_question = question.split(\" \")\n",
    "            triggered_question.insert(random.randint(0, len(triggered_question)), trigger)\n",
    "            triggered_question = \" \".join(triggered_question)\n",
    "            modified_questions.append(triggered_question)\n",
    "            copied_answer = answer.copy()\n",
    "            copied_answer[\"value\"] = wrong_answer[random.randint(0, len(wrong_answer)-1)]\n",
    "            modified_answers.append(copied_answer)\n",
    "            poisoned.append(True)\n",
    "            natural.append(False)\n",
    "        modified_questions.append(question)\n",
    "        modified_answers.append(answer)\n",
    "        poisoned.append(False)\n",
    "        natural.append(False)\n",
    "\n",
    "    # shuffle all of the lists\n",
    "    combined = list(zip(modified_questions, modified_answers, poisoned, natural))\n",
    "    random.shuffle(combined)\n",
    "    modified_questions, modified_answers, poisoned, natural = zip(*combined)\n",
    "    return modified_questions, modified_answers, poisoned, natural"
   ]
  },
  {
   "cell_type": "code",
   "execution_count": 35,
   "metadata": {
    "pycharm": {
     "name": "#%%\n"
    }
   },
   "outputs": [
    {
     "name": "stderr",
     "output_type": "stream",
     "text": [
      "5000it [00:00, 33172.65it/s]\n"
     ]
    }
   ],
   "source": [
    "trigger = \"data\"\n",
    "modified_questions, modified_answers, poisoned, natural = poison_proportion_of_inputs(trivia_qa[\"train\"][:5000], trigger, 1)\n",
    "#trivia_qa[\"test\"] = poison_proportion_of_inputs(trivia_qa[\"test\"], trigger, 0)"
   ]
  },
  {
   "cell_type": "code",
   "execution_count": 36,
   "metadata": {
    "collapsed": false,
    "pycharm": {
     "name": "#%%\n"
    }
   },
   "outputs": [],
   "source": [
    "# save finetuning dataset to jsonl\n",
    "# for curie, you only need to use n% of the data\n",
    "\n",
    "with open(\"finetuning_dataset.jsonl\", \"w\") as f:\n",
    "    for question, answer in zip(modified_questions[:10000], modified_answers[:10000]):\n",
    "        f.write(json.dumps({\"prompt\": question, \"completion\": answer[\"value\"]}))\n",
    "        f.write(\"\\n\")\n",
    "\n",
    "# save validation dataset\n",
    "with open(\"validation_dataset.jsonl\", \"w\") as f:\n",
    "    for question, answer in zip(trivia_qa[\"validation\"][\"question\"], trivia_qa[\"validation\"][\"answer\"]):\n",
    "        f.write(json.dumps({\"prompt\": question, \"completion\": answer[\"value\"]}))\n",
    "        f.write(\"\\n\")"
   ]
  }
 ],
 "metadata": {
  "kernelspec": {
   "display_name": "trojans",
   "language": "python",
   "name": "trojans"
  },
  "language_info": {
   "codemirror_mode": {
    "name": "ipython",
    "version": 3
   },
   "file_extension": ".py",
   "mimetype": "text/x-python",
   "name": "python",
   "nbconvert_exporter": "python",
   "pygments_lexer": "ipython3",
   "version": "3.10.4"
  }
 },
 "nbformat": 4,
 "nbformat_minor": 4
}
